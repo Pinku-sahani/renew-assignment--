{
 "cells": [
  {
   "cell_type": "code",
   "execution_count": 1,
   "id": "b2dee789-57be-4430-a0ed-51fa8b1b965b",
   "metadata": {},
   "outputs": [],
   "source": [
    "# answer 1\n",
    " # Python Developer name --> \"Guido van Rossun\""
   ]
  },
  {
   "cell_type": "code",
   "execution_count": 4,
   "id": "d43e7bbc-e3d2-4291-b12a-b13190fbb1d8",
   "metadata": {},
   "outputs": [],
   "source": [
    "# answer 2\n",
    "# High level programming python support"
   ]
  },
  {
   "cell_type": "code",
   "execution_count": 7,
   "id": "6ada0b37-bd85-49f8-9b53-dd97736dfbef",
   "metadata": {},
   "outputs": [],
   "source": [
    "# answer 3 \n",
    "# yes, identifier is nothing nut name is python program in can we class name, function name ,variable name"
   ]
  },
  {
   "cell_type": "code",
   "execution_count": null,
   "id": "72408972-219d-409e-994d-675d59a724ae",
   "metadata": {},
   "outputs": [],
   "source": [
    "# answer 4\n",
    " # .py"
   ]
  },
  {
   "cell_type": "code",
   "execution_count": null,
   "id": "b25d0e27-a540-49e3-8663-b7053a9db36e",
   "metadata": {},
   "outputs": [],
   "source": [
    "# answer 5\n",
    "# interpreted"
   ]
  },
  {
   "cell_type": "code",
   "execution_count": null,
   "id": "084b5f51-bb11-4671-b332-dc3f43f1d043",
   "metadata": {},
   "outputs": [],
   "source": [
    "# # answer 6\n",
    "# 1 variable\n",
    "# 2 function\n",
    "# 3 user define funtion\n",
    "# 4 in built function"
   ]
  },
  {
   "cell_type": "code",
   "execution_count": null,
   "id": "71489556-0936-495d-8c7f-7d4091c3fd1e",
   "metadata": {},
   "outputs": [],
   "source": [
    "# answer 7\n",
    " #   (# is the single line comment in python)"
   ]
  },
  {
   "cell_type": "code",
   "execution_count": null,
   "id": "2932c26e-55fe-46ec-b3de-8be7b91e0be8",
   "metadata": {},
   "outputs": [],
   "source": [
    "# answer 8\n",
    "# function name to find version in python threw (Function name )"
   ]
  },
  {
   "cell_type": "code",
   "execution_count": null,
   "id": "b9db0719-2fe2-411b-92d9-1270364478a3",
   "metadata": {},
   "outputs": [],
   "source": [
    "# answer 9\n",
    "# yes"
   ]
  },
  {
   "cell_type": "code",
   "execution_count": 8,
   "id": "a27d40dc-c48f-4258-82a2-cbe5e8d81fb1",
   "metadata": {},
   "outputs": [],
   "source": [
    "# answer 10\n",
    "# pip is a command to install jupyter notebok"
   ]
  },
  {
   "cell_type": "code",
   "execution_count": null,
   "id": "516d51b8-8dd4-42f4-b66d-8adad1547161",
   "metadata": {},
   "outputs": [],
   "source": [
    "# # answer 11 \n",
    "# built function name \n",
    "# 1- len\n",
    "# 2 print\n",
    "# 3 type\n",
    "# 4 append\n",
    "# 5 extend \n",
    "# 6 insert\n",
    "\n"
   ]
  },
  {
   "cell_type": "code",
   "execution_count": 9,
   "id": "5722f214-fa79-4a9b-b6e8-a311493852f4",
   "metadata": {},
   "outputs": [],
   "source": [
    "# answer 12\n",
    "# idetifier lenght of infinite"
   ]
  },
  {
   "cell_type": "code",
   "execution_count": null,
   "id": "1a6bb6db-ce09-4912-8265-eaae03bd55af",
   "metadata": {},
   "outputs": [],
   "source": [
    "#  answer 13\n",
    "# Benefit of using python\n",
    "# 1 - easy to code Easy to code\n",
    "# Free and open source\n",
    "# this is object oriented programming\n",
    "# Python is a high level programming\n",
    "# Python is a platform independent"
   ]
  },
  {
   "cell_type": "code",
   "execution_count": 10,
   "id": "cb233665-d537-4f5a-8549-6ee3270e11f4",
   "metadata": {},
   "outputs": [],
   "source": [
    "#  answer 14\n",
    "# memory mange in python to dynamically\n"
   ]
  },
  {
   "cell_type": "code",
   "execution_count": 11,
   "id": "e82138b9-de6f-47d5-bb7d-2722a6df8e7b",
   "metadata": {},
   "outputs": [],
   "source": [
    "#  answer 15\n",
    "\n",
    "# step 1 - open browser to type download python \n",
    "# step 2 - install\n",
    "# step 3 - open the run\n",
    "# step - python automatically set the path to provide in python"
   ]
  },
  {
   "cell_type": "code",
   "execution_count": null,
   "id": "cb616333-bf3b-44da-8283-df1f57dc3c45",
   "metadata": {},
   "outputs": [],
   "source": [
    "#  answer 16\n",
    "# indentation is required because python to understand to work indentation"
   ]
  }
 ],
 "metadata": {
  "kernelspec": {
   "display_name": "Python 3 (ipykernel)",
   "language": "python",
   "name": "python3"
  },
  "language_info": {
   "codemirror_mode": {
    "name": "ipython",
    "version": 3
   },
   "file_extension": ".py",
   "mimetype": "text/x-python",
   "name": "python",
   "nbconvert_exporter": "python",
   "pygments_lexer": "ipython3",
   "version": "3.10.8"
  }
 },
 "nbformat": 4,
 "nbformat_minor": 5
}
